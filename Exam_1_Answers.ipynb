{
 "cells": [
  {
   "cell_type": "markdown",
   "metadata": {},
   "source": [
    "## EXAM 1 ANSWERS\n",
    "\n",
    "### Author: Andrea Álvarez Pérez"
   ]
  },
  {
   "cell_type": "markdown",
   "metadata": {},
   "source": [
    "### Problem 2"
   ]
  },
  {
   "cell_type": "code",
   "execution_count": 3,
   "metadata": {},
   "outputs": [
    {
     "name": "stdout",
     "output_type": "stream",
     "text": [
      "total 2.4M\n",
      "-rw-rw-r-- 1 osboxes osboxes 1.2M Sep  2 10:25  conv.txt\n",
      "-rw-rw-r-- 1 osboxes osboxes  147 Sep  2 10:25  DISCLAIMER\n",
      "-rw-rw-r-- 1 osboxes osboxes 1.7K Sep  6 07:55  Exam_1_Answers.ipynb\n",
      "-rw-rw-r-- 1 osboxes osboxes 5.5K Sep  2 10:25 'Exam Week 1.ipynb'\n",
      "-rw-rw-r-- 1 osboxes osboxes 3.9K Sep  2 10:25 'Exam Week 2.ipynb'\n",
      "-rw-rw-r-- 1 osboxes osboxes 4.2K Sep  2 10:25  Germplasm.tsv\n",
      "-rw-rw-r-- 1 osboxes osboxes  141 Sep  2 10:25  how_to_convert.txt\n",
      "-rw-rw-r-- 1 osboxes osboxes 1.1K Sep  2 10:25  LICENSE\n",
      "-rw-rw-r-- 1 osboxes osboxes  637 Sep  2 10:25  LocusGene.tsv\n",
      "-rw-rw-r-- 1 osboxes osboxes 1.2M Sep  2 10:25  Locus_Germplasm_Phenotype_20130122.txt\n",
      "-rw-rw-r-- 1 osboxes osboxes  743 Sep  2 10:25  README.md\n"
     ]
    }
   ],
   "source": [
    "# Directory listing: the owner of the file is shown in the third column and the size in the fifth column\n",
    "ls -lh"
   ]
  },
  {
   "cell_type": "markdown",
   "metadata": {},
   "source": [
    "Permissions in this file:\n",
    "- Owner permissions (first trio os letters): read and write.\n",
    "- Group permissions (second trio): read and write.\n",
    "- Other permissions (third trio): read."
   ]
  },
  {
   "cell_type": "markdown",
   "metadata": {},
   "source": [
    "### Problem 3"
   ]
  },
  {
   "cell_type": "code",
   "execution_count": 4,
   "metadata": {},
   "outputs": [
    {
     "name": "stdout",
     "output_type": "stream",
     "text": [
      "Locus_name)\tGermplasm_name\tphenotype\tpubmed_id\n"
     ]
    }
   ],
   "source": [
    "head -1 Locus_Germplasm_Phenotype_20130122.txt"
   ]
  },
  {
   "cell_type": "markdown",
   "metadata": {},
   "source": [
    "### Problem 4"
   ]
  },
  {
   "cell_type": "code",
   "execution_count": 8,
   "metadata": {},
   "outputs": [
    {
     "name": "stdout",
     "output_type": "stream",
     "text": [
      "7216 Locus_Germplasm_Phenotype_20130122.txt\n"
     ]
    }
   ],
   "source": [
    "wc -l Locus_Germplasm_Phenotype_20130122.txt"
   ]
  },
  {
   "cell_type": "markdown",
   "metadata": {},
   "source": [
    "### Problem 5"
   ]
  },
  {
   "cell_type": "code",
   "execution_count": 20,
   "metadata": {},
   "outputs": [
    {
     "name": "stdout",
     "output_type": "stream",
     "text": [
      "7215 Data_Only.csv\n"
     ]
    }
   ],
   "source": [
    "# Make a copy of the original file\n",
    "cp Locus_Germplasm_Phenotype_20130122.txt Data_Only.csv\n",
    "# Delete the header\n",
    "sed -i \"1d\" Data_Only.csv\n",
    "# Count the lines\n",
    "wc -l Data_Only.csv"
   ]
  },
  {
   "cell_type": "markdown",
   "metadata": {},
   "source": [
    "### Problem 6"
   ]
  },
  {
   "cell_type": "code",
   "execution_count": 33,
   "metadata": {},
   "outputs": [
    {
     "name": "stdout",
     "output_type": "stream",
     "text": [
      "801\n"
     ]
    }
   ],
   "source": [
    "# Number of coincidences\n",
    "grep \"root\" Data_Only.csv | wc -l"
   ]
  },
  {
   "cell_type": "markdown",
   "metadata": {},
   "source": [
    "### Problem 7"
   ]
  },
  {
   "cell_type": "code",
   "execution_count": 24,
   "metadata": {},
   "outputs": [
    {
     "name": "stdout",
     "output_type": "stream",
     "text": [
      "Locus_name)\tGermplasm_name\tphenotype\tpubmed_id\n",
      "AT1G01040\tCS3828\tIncreased abundance of miRNA precursors.\t17369351\n",
      "AT1G01040\tCS3828\tindeterminate floral meristems, producing extra whorls of stamens and an indefinite number of carpels; unregulated cell division in the center of the flower with normal floral organ identity; plants also show other developmental defects including absence of axillary inflorescence meristems and abnormally shaped cotyledons, leaves, sepals, stamens and carpels\t10556049\n"
     ]
    }
   ],
   "source": [
    "head -3 Locus_Germplasm_Phenotype_20130122.txt"
   ]
  },
  {
   "cell_type": "code",
   "execution_count": 57,
   "metadata": {},
   "outputs": [
    {
     "name": "stdout",
     "output_type": "stream",
     "text": [
      "801 Root-associated-Loci.txt\n"
     ]
    }
   ],
   "source": [
    "# Cut the corresponding AGI Locus Code and paste it in another file\n",
    "grep \"root\" Data_Only.csv | cut -f 1 > Root-associated-Loci.txt\n",
    "# Count number of lines of new file\n",
    "wc -l Root-associated-Loci.txt"
   ]
  },
  {
   "cell_type": "markdown",
   "metadata": {},
   "source": [
    "### Problem 8"
   ]
  },
  {
   "cell_type": "code",
   "execution_count": 40,
   "metadata": {},
   "outputs": [
    {
     "name": "stdout",
     "output_type": "stream",
     "text": [
      "801 Root-associated-Publications.txt\n"
     ]
    }
   ],
   "source": [
    "# Cut the corresponding AGI Locus Code and paste it in another file\n",
    "grep \"root\" Data_Only.csv | cut -f 4 > Root-associated-Publications.txt\n",
    "# Count number of lines of new file\n",
    "wc -l Root-associated-Publications.txt"
   ]
  },
  {
   "cell_type": "markdown",
   "metadata": {},
   "source": [
    "### Problem 9\n",
    "\n",
    "*Arabidopsis thaliana* has 2n=10 chromosomes. In the AGI Locus Code, the first 3 characters define the number of chromosome in wich that gene is located. We can search for all 5 chromosomes in a row or separately (if we want to see how many root genes correspond to each chromosome)."
   ]
  },
  {
   "cell_type": "code",
   "execution_count": 55,
   "metadata": {},
   "outputs": [
    {
     "name": "stdout",
     "output_type": "stream",
     "text": [
      "785\n"
     ]
    }
   ],
   "source": [
    "grep -c \"AT[1-5]\" Root-associated-Loci.txt"
   ]
  },
  {
   "cell_type": "code",
   "execution_count": 60,
   "metadata": {},
   "outputs": [
    {
     "name": "stdout",
     "output_type": "stream",
     "text": [
      "AT5G65940\n",
      "AT5G66680\n",
      "AT5G66880\n",
      "AT5G67270\n",
      "CUD\n",
      "CUD\n",
      "DER2\n",
      "DER5\n",
      "DER6\n",
      "DER7\n",
      "DER8\n",
      "LIT\n",
      "LPI1\n",
      "LPI2\n",
      "LPI3\n",
      "LPI4\n",
      "MOP2\n",
      "RIB1\n",
      "SGR6\n",
      "Binary file Data_Only.csv matches\n"
     ]
    }
   ],
   "source": [
    "tail -20 Root-associated-Loci.txt"
   ]
  },
  {
   "cell_type": "markdown",
   "metadata": {},
   "source": [
    "As the number of genes did not coincide with the number of lines in the file, it was found that the remaining lines were at the end of the text and that they belong to several arabidopsis proteins. So, we can prove that **genes associated with roots can be found on all chromosomes.**"
   ]
  }
 ],
 "metadata": {
  "kernelspec": {
   "display_name": "Bash",
   "language": "bash",
   "name": "bash"
  },
  "language_info": {
   "codemirror_mode": "shell",
   "file_extension": ".sh",
   "mimetype": "text/x-sh",
   "name": "bash"
  }
 },
 "nbformat": 4,
 "nbformat_minor": 2
}
