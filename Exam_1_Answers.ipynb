# EXAM 1 ANSWERS
## Author: Andrea Álvarez Pérez
