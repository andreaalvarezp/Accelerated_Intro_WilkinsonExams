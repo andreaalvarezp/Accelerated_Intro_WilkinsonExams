#EXAM 1 ANSWERS

**Author:** Andrea ÁLvarez Pérez
